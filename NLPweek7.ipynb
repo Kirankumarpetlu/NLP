{
  "cells": [
    {
      "cell_type": "markdown",
      "metadata": {
        "id": "view-in-github",
        "colab_type": "text"
      },
      "source": [
        "<a href=\"https://colab.research.google.com/github/Kirankumarpetlu/NLP/blob/main/NLPweek7.ipynb\" target=\"_parent\"><img src=\"https://colab.research.google.com/assets/colab-badge.svg\" alt=\"Open In Colab\"/></a>"
      ]
    },
    {
      "cell_type": "markdown",
      "metadata": {
        "id": "TL5_bz9_6xEf"
      },
      "source": []
    },
    {
      "cell_type": "markdown",
      "metadata": {
        "id": "hA4iour066q-"
      },
      "source": [
        "q1"
      ]
    },
    {
      "cell_type": "markdown",
      "metadata": {
        "id": "QPl4anUP8JBb"
      },
      "source": []
    },
    {
      "cell_type": "code",
      "execution_count": null,
      "metadata": {
        "colab": {
          "base_uri": "https://localhost:8080/"
        },
        "id": "blwGCCpG8Mu0",
        "outputId": "905c5076-91b8-416f-fd11-20a4888534da"
      },
      "outputs": [
        {
          "name": "stdout",
          "output_type": "stream",
          "text": [
            "Requirement already satisfied: spacy in /usr/local/lib/python3.11/dist-packages (3.7.5)\n",
            "Requirement already satisfied: spacy-legacy<3.1.0,>=3.0.11 in /usr/local/lib/python3.11/dist-packages (from spacy) (3.0.12)\n",
            "Requirement already satisfied: spacy-loggers<2.0.0,>=1.0.0 in /usr/local/lib/python3.11/dist-packages (from spacy) (1.0.5)\n",
            "Requirement already satisfied: murmurhash<1.1.0,>=0.28.0 in /usr/local/lib/python3.11/dist-packages (from spacy) (1.0.12)\n",
            "Requirement already satisfied: cymem<2.1.0,>=2.0.2 in /usr/local/lib/python3.11/dist-packages (from spacy) (2.0.11)\n",
            "Requirement already satisfied: preshed<3.1.0,>=3.0.2 in /usr/local/lib/python3.11/dist-packages (from spacy) (3.0.9)\n",
            "Requirement already satisfied: thinc<8.3.0,>=8.2.2 in /usr/local/lib/python3.11/dist-packages (from spacy) (8.2.5)\n",
            "Requirement already satisfied: wasabi<1.2.0,>=0.9.1 in /usr/local/lib/python3.11/dist-packages (from spacy) (1.1.3)\n",
            "Requirement already satisfied: srsly<3.0.0,>=2.4.3 in /usr/local/lib/python3.11/dist-packages (from spacy) (2.5.1)\n",
            "Requirement already satisfied: catalogue<2.1.0,>=2.0.6 in /usr/local/lib/python3.11/dist-packages (from spacy) (2.0.10)\n",
            "Requirement already satisfied: weasel<0.5.0,>=0.1.0 in /usr/local/lib/python3.11/dist-packages (from spacy) (0.4.1)\n",
            "Requirement already satisfied: typer<1.0.0,>=0.3.0 in /usr/local/lib/python3.11/dist-packages (from spacy) (0.15.1)\n",
            "Requirement already satisfied: tqdm<5.0.0,>=4.38.0 in /usr/local/lib/python3.11/dist-packages (from spacy) (4.67.1)\n",
            "Requirement already satisfied: requests<3.0.0,>=2.13.0 in /usr/local/lib/python3.11/dist-packages (from spacy) (2.32.3)\n",
            "Requirement already satisfied: pydantic!=1.8,!=1.8.1,<3.0.0,>=1.7.4 in /usr/local/lib/python3.11/dist-packages (from spacy) (2.10.6)\n",
            "Requirement already satisfied: jinja2 in /usr/local/lib/python3.11/dist-packages (from spacy) (3.1.5)\n",
            "Requirement already satisfied: setuptools in /usr/local/lib/python3.11/dist-packages (from spacy) (75.1.0)\n",
            "Requirement already satisfied: packaging>=20.0 in /usr/local/lib/python3.11/dist-packages (from spacy) (24.2)\n",
            "Requirement already satisfied: langcodes<4.0.0,>=3.2.0 in /usr/local/lib/python3.11/dist-packages (from spacy) (3.5.0)\n",
            "Requirement already satisfied: numpy>=1.19.0 in /usr/local/lib/python3.11/dist-packages (from spacy) (1.26.4)\n",
            "Requirement already satisfied: language-data>=1.2 in /usr/local/lib/python3.11/dist-packages (from langcodes<4.0.0,>=3.2.0->spacy) (1.3.0)\n",
            "Requirement already satisfied: annotated-types>=0.6.0 in /usr/local/lib/python3.11/dist-packages (from pydantic!=1.8,!=1.8.1,<3.0.0,>=1.7.4->spacy) (0.7.0)\n",
            "Requirement already satisfied: pydantic-core==2.27.2 in /usr/local/lib/python3.11/dist-packages (from pydantic!=1.8,!=1.8.1,<3.0.0,>=1.7.4->spacy) (2.27.2)\n",
            "Requirement already satisfied: typing-extensions>=4.12.2 in /usr/local/lib/python3.11/dist-packages (from pydantic!=1.8,!=1.8.1,<3.0.0,>=1.7.4->spacy) (4.12.2)\n",
            "Requirement already satisfied: charset-normalizer<4,>=2 in /usr/local/lib/python3.11/dist-packages (from requests<3.0.0,>=2.13.0->spacy) (3.4.1)\n",
            "Requirement already satisfied: idna<4,>=2.5 in /usr/local/lib/python3.11/dist-packages (from requests<3.0.0,>=2.13.0->spacy) (3.10)\n",
            "Requirement already satisfied: urllib3<3,>=1.21.1 in /usr/local/lib/python3.11/dist-packages (from requests<3.0.0,>=2.13.0->spacy) (2.3.0)\n",
            "Requirement already satisfied: certifi>=2017.4.17 in /usr/local/lib/python3.11/dist-packages (from requests<3.0.0,>=2.13.0->spacy) (2025.1.31)\n",
            "Requirement already satisfied: blis<0.8.0,>=0.7.8 in /usr/local/lib/python3.11/dist-packages (from thinc<8.3.0,>=8.2.2->spacy) (0.7.11)\n",
            "Requirement already satisfied: confection<1.0.0,>=0.0.1 in /usr/local/lib/python3.11/dist-packages (from thinc<8.3.0,>=8.2.2->spacy) (0.1.5)\n",
            "Requirement already satisfied: click>=8.0.0 in /usr/local/lib/python3.11/dist-packages (from typer<1.0.0,>=0.3.0->spacy) (8.1.8)\n",
            "Requirement already satisfied: shellingham>=1.3.0 in /usr/local/lib/python3.11/dist-packages (from typer<1.0.0,>=0.3.0->spacy) (1.5.4)\n",
            "Requirement already satisfied: rich>=10.11.0 in /usr/local/lib/python3.11/dist-packages (from typer<1.0.0,>=0.3.0->spacy) (13.9.4)\n",
            "Requirement already satisfied: cloudpathlib<1.0.0,>=0.7.0 in /usr/local/lib/python3.11/dist-packages (from weasel<0.5.0,>=0.1.0->spacy) (0.20.0)\n",
            "Requirement already satisfied: smart-open<8.0.0,>=5.2.1 in /usr/local/lib/python3.11/dist-packages (from weasel<0.5.0,>=0.1.0->spacy) (7.1.0)\n",
            "Requirement already satisfied: MarkupSafe>=2.0 in /usr/local/lib/python3.11/dist-packages (from jinja2->spacy) (3.0.2)\n",
            "Requirement already satisfied: marisa-trie>=1.1.0 in /usr/local/lib/python3.11/dist-packages (from language-data>=1.2->langcodes<4.0.0,>=3.2.0->spacy) (1.2.1)\n",
            "Requirement already satisfied: markdown-it-py>=2.2.0 in /usr/local/lib/python3.11/dist-packages (from rich>=10.11.0->typer<1.0.0,>=0.3.0->spacy) (3.0.0)\n",
            "Requirement already satisfied: pygments<3.0.0,>=2.13.0 in /usr/local/lib/python3.11/dist-packages (from rich>=10.11.0->typer<1.0.0,>=0.3.0->spacy) (2.18.0)\n",
            "Requirement already satisfied: wrapt in /usr/local/lib/python3.11/dist-packages (from smart-open<8.0.0,>=5.2.1->weasel<0.5.0,>=0.1.0->spacy) (1.17.2)\n",
            "Requirement already satisfied: mdurl~=0.1 in /usr/local/lib/python3.11/dist-packages (from markdown-it-py>=2.2.0->rich>=10.11.0->typer<1.0.0,>=0.3.0->spacy) (0.1.2)\n"
          ]
        }
      ],
      "source": [
        "pip install spacy\n"
      ]
    },
    {
      "cell_type": "code",
      "execution_count": null,
      "metadata": {
        "colab": {
          "base_uri": "https://localhost:8080/"
        },
        "id": "vHXktOAM8KmN",
        "outputId": "42ed4461-9262-4a7a-bea9-eba1e7c158bf"
      },
      "outputs": [
        {
          "name": "stdout",
          "output_type": "stream",
          "text": [
            "Collecting en-core-web-sm==3.7.1\n",
            "  Downloading https://github.com/explosion/spacy-models/releases/download/en_core_web_sm-3.7.1/en_core_web_sm-3.7.1-py3-none-any.whl (12.8 MB)\n",
            "\u001b[2K     \u001b[90m━━━━━━━━━━━━━━━━━━━━━━━━━━━━━━━━━━━━━━━━\u001b[0m \u001b[32m12.8/12.8 MB\u001b[0m \u001b[31m38.6 MB/s\u001b[0m eta \u001b[36m0:00:00\u001b[0m\n",
            "\u001b[?25hRequirement already satisfied: spacy<3.8.0,>=3.7.2 in /usr/local/lib/python3.11/dist-packages (from en-core-web-sm==3.7.1) (3.7.5)\n",
            "Requirement already satisfied: spacy-legacy<3.1.0,>=3.0.11 in /usr/local/lib/python3.11/dist-packages (from spacy<3.8.0,>=3.7.2->en-core-web-sm==3.7.1) (3.0.12)\n",
            "Requirement already satisfied: spacy-loggers<2.0.0,>=1.0.0 in /usr/local/lib/python3.11/dist-packages (from spacy<3.8.0,>=3.7.2->en-core-web-sm==3.7.1) (1.0.5)\n",
            "Requirement already satisfied: murmurhash<1.1.0,>=0.28.0 in /usr/local/lib/python3.11/dist-packages (from spacy<3.8.0,>=3.7.2->en-core-web-sm==3.7.1) (1.0.12)\n",
            "Requirement already satisfied: cymem<2.1.0,>=2.0.2 in /usr/local/lib/python3.11/dist-packages (from spacy<3.8.0,>=3.7.2->en-core-web-sm==3.7.1) (2.0.11)\n",
            "Requirement already satisfied: preshed<3.1.0,>=3.0.2 in /usr/local/lib/python3.11/dist-packages (from spacy<3.8.0,>=3.7.2->en-core-web-sm==3.7.1) (3.0.9)\n",
            "Requirement already satisfied: thinc<8.3.0,>=8.2.2 in /usr/local/lib/python3.11/dist-packages (from spacy<3.8.0,>=3.7.2->en-core-web-sm==3.7.1) (8.2.5)\n",
            "Requirement already satisfied: wasabi<1.2.0,>=0.9.1 in /usr/local/lib/python3.11/dist-packages (from spacy<3.8.0,>=3.7.2->en-core-web-sm==3.7.1) (1.1.3)\n",
            "Requirement already satisfied: srsly<3.0.0,>=2.4.3 in /usr/local/lib/python3.11/dist-packages (from spacy<3.8.0,>=3.7.2->en-core-web-sm==3.7.1) (2.5.1)\n",
            "Requirement already satisfied: catalogue<2.1.0,>=2.0.6 in /usr/local/lib/python3.11/dist-packages (from spacy<3.8.0,>=3.7.2->en-core-web-sm==3.7.1) (2.0.10)\n",
            "Requirement already satisfied: weasel<0.5.0,>=0.1.0 in /usr/local/lib/python3.11/dist-packages (from spacy<3.8.0,>=3.7.2->en-core-web-sm==3.7.1) (0.4.1)\n",
            "Requirement already satisfied: typer<1.0.0,>=0.3.0 in /usr/local/lib/python3.11/dist-packages (from spacy<3.8.0,>=3.7.2->en-core-web-sm==3.7.1) (0.15.1)\n",
            "Requirement already satisfied: tqdm<5.0.0,>=4.38.0 in /usr/local/lib/python3.11/dist-packages (from spacy<3.8.0,>=3.7.2->en-core-web-sm==3.7.1) (4.67.1)\n",
            "Requirement already satisfied: requests<3.0.0,>=2.13.0 in /usr/local/lib/python3.11/dist-packages (from spacy<3.8.0,>=3.7.2->en-core-web-sm==3.7.1) (2.32.3)\n",
            "Requirement already satisfied: pydantic!=1.8,!=1.8.1,<3.0.0,>=1.7.4 in /usr/local/lib/python3.11/dist-packages (from spacy<3.8.0,>=3.7.2->en-core-web-sm==3.7.1) (2.10.6)\n",
            "Requirement already satisfied: jinja2 in /usr/local/lib/python3.11/dist-packages (from spacy<3.8.0,>=3.7.2->en-core-web-sm==3.7.1) (3.1.5)\n",
            "Requirement already satisfied: setuptools in /usr/local/lib/python3.11/dist-packages (from spacy<3.8.0,>=3.7.2->en-core-web-sm==3.7.1) (75.1.0)\n",
            "Requirement already satisfied: packaging>=20.0 in /usr/local/lib/python3.11/dist-packages (from spacy<3.8.0,>=3.7.2->en-core-web-sm==3.7.1) (24.2)\n",
            "Requirement already satisfied: langcodes<4.0.0,>=3.2.0 in /usr/local/lib/python3.11/dist-packages (from spacy<3.8.0,>=3.7.2->en-core-web-sm==3.7.1) (3.5.0)\n",
            "Requirement already satisfied: numpy>=1.19.0 in /usr/local/lib/python3.11/dist-packages (from spacy<3.8.0,>=3.7.2->en-core-web-sm==3.7.1) (1.26.4)\n",
            "Requirement already satisfied: language-data>=1.2 in /usr/local/lib/python3.11/dist-packages (from langcodes<4.0.0,>=3.2.0->spacy<3.8.0,>=3.7.2->en-core-web-sm==3.7.1) (1.3.0)\n",
            "Requirement already satisfied: annotated-types>=0.6.0 in /usr/local/lib/python3.11/dist-packages (from pydantic!=1.8,!=1.8.1,<3.0.0,>=1.7.4->spacy<3.8.0,>=3.7.2->en-core-web-sm==3.7.1) (0.7.0)\n",
            "Requirement already satisfied: pydantic-core==2.27.2 in /usr/local/lib/python3.11/dist-packages (from pydantic!=1.8,!=1.8.1,<3.0.0,>=1.7.4->spacy<3.8.0,>=3.7.2->en-core-web-sm==3.7.1) (2.27.2)\n",
            "Requirement already satisfied: typing-extensions>=4.12.2 in /usr/local/lib/python3.11/dist-packages (from pydantic!=1.8,!=1.8.1,<3.0.0,>=1.7.4->spacy<3.8.0,>=3.7.2->en-core-web-sm==3.7.1) (4.12.2)\n",
            "Requirement already satisfied: charset-normalizer<4,>=2 in /usr/local/lib/python3.11/dist-packages (from requests<3.0.0,>=2.13.0->spacy<3.8.0,>=3.7.2->en-core-web-sm==3.7.1) (3.4.1)\n",
            "Requirement already satisfied: idna<4,>=2.5 in /usr/local/lib/python3.11/dist-packages (from requests<3.0.0,>=2.13.0->spacy<3.8.0,>=3.7.2->en-core-web-sm==3.7.1) (3.10)\n",
            "Requirement already satisfied: urllib3<3,>=1.21.1 in /usr/local/lib/python3.11/dist-packages (from requests<3.0.0,>=2.13.0->spacy<3.8.0,>=3.7.2->en-core-web-sm==3.7.1) (2.3.0)\n",
            "Requirement already satisfied: certifi>=2017.4.17 in /usr/local/lib/python3.11/dist-packages (from requests<3.0.0,>=2.13.0->spacy<3.8.0,>=3.7.2->en-core-web-sm==3.7.1) (2025.1.31)\n",
            "Requirement already satisfied: blis<0.8.0,>=0.7.8 in /usr/local/lib/python3.11/dist-packages (from thinc<8.3.0,>=8.2.2->spacy<3.8.0,>=3.7.2->en-core-web-sm==3.7.1) (0.7.11)\n",
            "Requirement already satisfied: confection<1.0.0,>=0.0.1 in /usr/local/lib/python3.11/dist-packages (from thinc<8.3.0,>=8.2.2->spacy<3.8.0,>=3.7.2->en-core-web-sm==3.7.1) (0.1.5)\n",
            "Requirement already satisfied: click>=8.0.0 in /usr/local/lib/python3.11/dist-packages (from typer<1.0.0,>=0.3.0->spacy<3.8.0,>=3.7.2->en-core-web-sm==3.7.1) (8.1.8)\n",
            "Requirement already satisfied: shellingham>=1.3.0 in /usr/local/lib/python3.11/dist-packages (from typer<1.0.0,>=0.3.0->spacy<3.8.0,>=3.7.2->en-core-web-sm==3.7.1) (1.5.4)\n",
            "Requirement already satisfied: rich>=10.11.0 in /usr/local/lib/python3.11/dist-packages (from typer<1.0.0,>=0.3.0->spacy<3.8.0,>=3.7.2->en-core-web-sm==3.7.1) (13.9.4)\n",
            "Requirement already satisfied: cloudpathlib<1.0.0,>=0.7.0 in /usr/local/lib/python3.11/dist-packages (from weasel<0.5.0,>=0.1.0->spacy<3.8.0,>=3.7.2->en-core-web-sm==3.7.1) (0.20.0)\n",
            "Requirement already satisfied: smart-open<8.0.0,>=5.2.1 in /usr/local/lib/python3.11/dist-packages (from weasel<0.5.0,>=0.1.0->spacy<3.8.0,>=3.7.2->en-core-web-sm==3.7.1) (7.1.0)\n",
            "Requirement already satisfied: MarkupSafe>=2.0 in /usr/local/lib/python3.11/dist-packages (from jinja2->spacy<3.8.0,>=3.7.2->en-core-web-sm==3.7.1) (3.0.2)\n",
            "Requirement already satisfied: marisa-trie>=1.1.0 in /usr/local/lib/python3.11/dist-packages (from language-data>=1.2->langcodes<4.0.0,>=3.2.0->spacy<3.8.0,>=3.7.2->en-core-web-sm==3.7.1) (1.2.1)\n",
            "Requirement already satisfied: markdown-it-py>=2.2.0 in /usr/local/lib/python3.11/dist-packages (from rich>=10.11.0->typer<1.0.0,>=0.3.0->spacy<3.8.0,>=3.7.2->en-core-web-sm==3.7.1) (3.0.0)\n",
            "Requirement already satisfied: pygments<3.0.0,>=2.13.0 in /usr/local/lib/python3.11/dist-packages (from rich>=10.11.0->typer<1.0.0,>=0.3.0->spacy<3.8.0,>=3.7.2->en-core-web-sm==3.7.1) (2.18.0)\n",
            "Requirement already satisfied: wrapt in /usr/local/lib/python3.11/dist-packages (from smart-open<8.0.0,>=5.2.1->weasel<0.5.0,>=0.1.0->spacy<3.8.0,>=3.7.2->en-core-web-sm==3.7.1) (1.17.2)\n",
            "Requirement already satisfied: mdurl~=0.1 in /usr/local/lib/python3.11/dist-packages (from markdown-it-py>=2.2.0->rich>=10.11.0->typer<1.0.0,>=0.3.0->spacy<3.8.0,>=3.7.2->en-core-web-sm==3.7.1) (0.1.2)\n",
            "\u001b[38;5;2m✔ Download and installation successful\u001b[0m\n",
            "You can now load the package via spacy.load('en_core_web_sm')\n",
            "\u001b[38;5;3m⚠ Restart to reload dependencies\u001b[0m\n",
            "If you are in a Jupyter or Colab notebook, you may need to restart Python in\n",
            "order to load all the package's dependencies. You can do this by selecting the\n",
            "'Restart kernel' or 'Restart runtime' option.\n"
          ]
        }
      ],
      "source": [
        "!python -m spacy download en_core_web_sm"
      ]
    },
    {
      "cell_type": "code",
      "execution_count": null,
      "metadata": {
        "colab": {
          "base_uri": "https://localhost:8080/",
          "height": 1000
        },
        "id": "PIDeKg5e7_Cd",
        "outputId": "5169841f-a17d-4d49-a827-e26acc67a3fb"
      },
      "outputs": [
        {
          "name": "stdout",
          "output_type": "stream",
          "text": [
            "\n",
            "Processing Sentence: I wanted to try someplace new\n",
            "Token          Dependency          Head           Children\n",
            "------------------------------------------------------------\n",
            "I              nsubj               wanted         []\n",
            "wanted         ROOT                wanted         ['I', 'try']\n",
            "to             aux                 try            []\n",
            "try            xcomp               wanted         ['to', 'new']\n",
            "someplace      npadvmod            new            []\n",
            "new            dobj                try            ['someplace']\n"
          ]
        },
        {
          "data": {
            "text/html": [
              "<span class=\"tex2jax_ignore\"><svg xmlns=\"http://www.w3.org/2000/svg\" xmlns:xlink=\"http://www.w3.org/1999/xlink\" xml:lang=\"en\" id=\"ed799da69b5b48da88667802cb0afbc1-0\" class=\"displacy\" width=\"1100\" height=\"312.0\" direction=\"ltr\" style=\"max-width: none; height: 312.0px; color: #000000; background: #ffffff; font-family: Arial; direction: ltr\">\n",
              "<text class=\"displacy-token\" fill=\"currentColor\" text-anchor=\"middle\" y=\"222.0\">\n",
              "    <tspan class=\"displacy-word\" fill=\"currentColor\" x=\"50\">I</tspan>\n",
              "    <tspan class=\"displacy-tag\" dy=\"2em\" fill=\"currentColor\" x=\"50\">PRON</tspan>\n",
              "</text>\n",
              "\n",
              "<text class=\"displacy-token\" fill=\"currentColor\" text-anchor=\"middle\" y=\"222.0\">\n",
              "    <tspan class=\"displacy-word\" fill=\"currentColor\" x=\"225\">wanted</tspan>\n",
              "    <tspan class=\"displacy-tag\" dy=\"2em\" fill=\"currentColor\" x=\"225\">VERB</tspan>\n",
              "</text>\n",
              "\n",
              "<text class=\"displacy-token\" fill=\"currentColor\" text-anchor=\"middle\" y=\"222.0\">\n",
              "    <tspan class=\"displacy-word\" fill=\"currentColor\" x=\"400\">to</tspan>\n",
              "    <tspan class=\"displacy-tag\" dy=\"2em\" fill=\"currentColor\" x=\"400\">PART</tspan>\n",
              "</text>\n",
              "\n",
              "<text class=\"displacy-token\" fill=\"currentColor\" text-anchor=\"middle\" y=\"222.0\">\n",
              "    <tspan class=\"displacy-word\" fill=\"currentColor\" x=\"575\">try</tspan>\n",
              "    <tspan class=\"displacy-tag\" dy=\"2em\" fill=\"currentColor\" x=\"575\">VERB</tspan>\n",
              "</text>\n",
              "\n",
              "<text class=\"displacy-token\" fill=\"currentColor\" text-anchor=\"middle\" y=\"222.0\">\n",
              "    <tspan class=\"displacy-word\" fill=\"currentColor\" x=\"750\">someplace</tspan>\n",
              "    <tspan class=\"displacy-tag\" dy=\"2em\" fill=\"currentColor\" x=\"750\">NOUN</tspan>\n",
              "</text>\n",
              "\n",
              "<text class=\"displacy-token\" fill=\"currentColor\" text-anchor=\"middle\" y=\"222.0\">\n",
              "    <tspan class=\"displacy-word\" fill=\"currentColor\" x=\"925\">new</tspan>\n",
              "    <tspan class=\"displacy-tag\" dy=\"2em\" fill=\"currentColor\" x=\"925\">ADJ</tspan>\n",
              "</text>\n",
              "\n",
              "<g class=\"displacy-arrow\">\n",
              "    <path class=\"displacy-arc\" id=\"arrow-ed799da69b5b48da88667802cb0afbc1-0-0\" stroke-width=\"2px\" d=\"M70,177.0 C70,89.5 220.0,89.5 220.0,177.0\" fill=\"none\" stroke=\"currentColor\"/>\n",
              "    <text dy=\"1.25em\" style=\"font-size: 0.8em; letter-spacing: 1px\">\n",
              "        <textPath xlink:href=\"#arrow-ed799da69b5b48da88667802cb0afbc1-0-0\" class=\"displacy-label\" startOffset=\"50%\" side=\"left\" fill=\"currentColor\" text-anchor=\"middle\">nsubj</textPath>\n",
              "    </text>\n",
              "    <path class=\"displacy-arrowhead\" d=\"M70,179.0 L62,167.0 78,167.0\" fill=\"currentColor\"/>\n",
              "</g>\n",
              "\n",
              "<g class=\"displacy-arrow\">\n",
              "    <path class=\"displacy-arc\" id=\"arrow-ed799da69b5b48da88667802cb0afbc1-0-1\" stroke-width=\"2px\" d=\"M420,177.0 C420,89.5 570.0,89.5 570.0,177.0\" fill=\"none\" stroke=\"currentColor\"/>\n",
              "    <text dy=\"1.25em\" style=\"font-size: 0.8em; letter-spacing: 1px\">\n",
              "        <textPath xlink:href=\"#arrow-ed799da69b5b48da88667802cb0afbc1-0-1\" class=\"displacy-label\" startOffset=\"50%\" side=\"left\" fill=\"currentColor\" text-anchor=\"middle\">aux</textPath>\n",
              "    </text>\n",
              "    <path class=\"displacy-arrowhead\" d=\"M420,179.0 L412,167.0 428,167.0\" fill=\"currentColor\"/>\n",
              "</g>\n",
              "\n",
              "<g class=\"displacy-arrow\">\n",
              "    <path class=\"displacy-arc\" id=\"arrow-ed799da69b5b48da88667802cb0afbc1-0-2\" stroke-width=\"2px\" d=\"M245,177.0 C245,2.0 575.0,2.0 575.0,177.0\" fill=\"none\" stroke=\"currentColor\"/>\n",
              "    <text dy=\"1.25em\" style=\"font-size: 0.8em; letter-spacing: 1px\">\n",
              "        <textPath xlink:href=\"#arrow-ed799da69b5b48da88667802cb0afbc1-0-2\" class=\"displacy-label\" startOffset=\"50%\" side=\"left\" fill=\"currentColor\" text-anchor=\"middle\">xcomp</textPath>\n",
              "    </text>\n",
              "    <path class=\"displacy-arrowhead\" d=\"M575.0,179.0 L583.0,167.0 567.0,167.0\" fill=\"currentColor\"/>\n",
              "</g>\n",
              "\n",
              "<g class=\"displacy-arrow\">\n",
              "    <path class=\"displacy-arc\" id=\"arrow-ed799da69b5b48da88667802cb0afbc1-0-3\" stroke-width=\"2px\" d=\"M770,177.0 C770,89.5 920.0,89.5 920.0,177.0\" fill=\"none\" stroke=\"currentColor\"/>\n",
              "    <text dy=\"1.25em\" style=\"font-size: 0.8em; letter-spacing: 1px\">\n",
              "        <textPath xlink:href=\"#arrow-ed799da69b5b48da88667802cb0afbc1-0-3\" class=\"displacy-label\" startOffset=\"50%\" side=\"left\" fill=\"currentColor\" text-anchor=\"middle\">npadvmod</textPath>\n",
              "    </text>\n",
              "    <path class=\"displacy-arrowhead\" d=\"M770,179.0 L762,167.0 778,167.0\" fill=\"currentColor\"/>\n",
              "</g>\n",
              "\n",
              "<g class=\"displacy-arrow\">\n",
              "    <path class=\"displacy-arc\" id=\"arrow-ed799da69b5b48da88667802cb0afbc1-0-4\" stroke-width=\"2px\" d=\"M595,177.0 C595,2.0 925.0,2.0 925.0,177.0\" fill=\"none\" stroke=\"currentColor\"/>\n",
              "    <text dy=\"1.25em\" style=\"font-size: 0.8em; letter-spacing: 1px\">\n",
              "        <textPath xlink:href=\"#arrow-ed799da69b5b48da88667802cb0afbc1-0-4\" class=\"displacy-label\" startOffset=\"50%\" side=\"left\" fill=\"currentColor\" text-anchor=\"middle\">dobj</textPath>\n",
              "    </text>\n",
              "    <path class=\"displacy-arrowhead\" d=\"M925.0,179.0 L933.0,167.0 917.0,167.0\" fill=\"currentColor\"/>\n",
              "</g>\n",
              "</svg></span>"
            ],
            "text/plain": [
              "<IPython.core.display.HTML object>"
            ]
          },
          "metadata": {},
          "output_type": "display_data"
        },
        {
          "name": "stdout",
          "output_type": "stream",
          "text": [
            "\n",
            "Processing Sentence: I booked a flight from Vijayawada to Delhi\n",
            "Token          Dependency          Head           Children\n",
            "------------------------------------------------------------\n",
            "I              nsubj               booked         []\n",
            "booked         ROOT                booked         ['I', 'flight', 'to']\n",
            "a              det                 flight         []\n",
            "flight         dobj                booked         ['a', 'from']\n",
            "from           prep                flight         ['Vijayawada']\n",
            "Vijayawada     pobj                from           []\n",
            "to             prep                booked         ['Delhi']\n",
            "Delhi          pobj                to             []\n"
          ]
        },
        {
          "data": {
            "text/html": [
              "<span class=\"tex2jax_ignore\"><svg xmlns=\"http://www.w3.org/2000/svg\" xmlns:xlink=\"http://www.w3.org/1999/xlink\" xml:lang=\"en\" id=\"287c692f89e947228071d1e44ea1610c-0\" class=\"displacy\" width=\"1450\" height=\"399.5\" direction=\"ltr\" style=\"max-width: none; height: 399.5px; color: #000000; background: #ffffff; font-family: Arial; direction: ltr\">\n",
              "<text class=\"displacy-token\" fill=\"currentColor\" text-anchor=\"middle\" y=\"309.5\">\n",
              "    <tspan class=\"displacy-word\" fill=\"currentColor\" x=\"50\">I</tspan>\n",
              "    <tspan class=\"displacy-tag\" dy=\"2em\" fill=\"currentColor\" x=\"50\">PRON</tspan>\n",
              "</text>\n",
              "\n",
              "<text class=\"displacy-token\" fill=\"currentColor\" text-anchor=\"middle\" y=\"309.5\">\n",
              "    <tspan class=\"displacy-word\" fill=\"currentColor\" x=\"225\">booked</tspan>\n",
              "    <tspan class=\"displacy-tag\" dy=\"2em\" fill=\"currentColor\" x=\"225\">VERB</tspan>\n",
              "</text>\n",
              "\n",
              "<text class=\"displacy-token\" fill=\"currentColor\" text-anchor=\"middle\" y=\"309.5\">\n",
              "    <tspan class=\"displacy-word\" fill=\"currentColor\" x=\"400\">a</tspan>\n",
              "    <tspan class=\"displacy-tag\" dy=\"2em\" fill=\"currentColor\" x=\"400\">DET</tspan>\n",
              "</text>\n",
              "\n",
              "<text class=\"displacy-token\" fill=\"currentColor\" text-anchor=\"middle\" y=\"309.5\">\n",
              "    <tspan class=\"displacy-word\" fill=\"currentColor\" x=\"575\">flight</tspan>\n",
              "    <tspan class=\"displacy-tag\" dy=\"2em\" fill=\"currentColor\" x=\"575\">NOUN</tspan>\n",
              "</text>\n",
              "\n",
              "<text class=\"displacy-token\" fill=\"currentColor\" text-anchor=\"middle\" y=\"309.5\">\n",
              "    <tspan class=\"displacy-word\" fill=\"currentColor\" x=\"750\">from</tspan>\n",
              "    <tspan class=\"displacy-tag\" dy=\"2em\" fill=\"currentColor\" x=\"750\">ADP</tspan>\n",
              "</text>\n",
              "\n",
              "<text class=\"displacy-token\" fill=\"currentColor\" text-anchor=\"middle\" y=\"309.5\">\n",
              "    <tspan class=\"displacy-word\" fill=\"currentColor\" x=\"925\">Vijayawada</tspan>\n",
              "    <tspan class=\"displacy-tag\" dy=\"2em\" fill=\"currentColor\" x=\"925\">PROPN</tspan>\n",
              "</text>\n",
              "\n",
              "<text class=\"displacy-token\" fill=\"currentColor\" text-anchor=\"middle\" y=\"309.5\">\n",
              "    <tspan class=\"displacy-word\" fill=\"currentColor\" x=\"1100\">to</tspan>\n",
              "    <tspan class=\"displacy-tag\" dy=\"2em\" fill=\"currentColor\" x=\"1100\">ADP</tspan>\n",
              "</text>\n",
              "\n",
              "<text class=\"displacy-token\" fill=\"currentColor\" text-anchor=\"middle\" y=\"309.5\">\n",
              "    <tspan class=\"displacy-word\" fill=\"currentColor\" x=\"1275\">Delhi</tspan>\n",
              "    <tspan class=\"displacy-tag\" dy=\"2em\" fill=\"currentColor\" x=\"1275\">PROPN</tspan>\n",
              "</text>\n",
              "\n",
              "<g class=\"displacy-arrow\">\n",
              "    <path class=\"displacy-arc\" id=\"arrow-287c692f89e947228071d1e44ea1610c-0-0\" stroke-width=\"2px\" d=\"M70,264.5 C70,177.0 215.0,177.0 215.0,264.5\" fill=\"none\" stroke=\"currentColor\"/>\n",
              "    <text dy=\"1.25em\" style=\"font-size: 0.8em; letter-spacing: 1px\">\n",
              "        <textPath xlink:href=\"#arrow-287c692f89e947228071d1e44ea1610c-0-0\" class=\"displacy-label\" startOffset=\"50%\" side=\"left\" fill=\"currentColor\" text-anchor=\"middle\">nsubj</textPath>\n",
              "    </text>\n",
              "    <path class=\"displacy-arrowhead\" d=\"M70,266.5 L62,254.5 78,254.5\" fill=\"currentColor\"/>\n",
              "</g>\n",
              "\n",
              "<g class=\"displacy-arrow\">\n",
              "    <path class=\"displacy-arc\" id=\"arrow-287c692f89e947228071d1e44ea1610c-0-1\" stroke-width=\"2px\" d=\"M420,264.5 C420,177.0 565.0,177.0 565.0,264.5\" fill=\"none\" stroke=\"currentColor\"/>\n",
              "    <text dy=\"1.25em\" style=\"font-size: 0.8em; letter-spacing: 1px\">\n",
              "        <textPath xlink:href=\"#arrow-287c692f89e947228071d1e44ea1610c-0-1\" class=\"displacy-label\" startOffset=\"50%\" side=\"left\" fill=\"currentColor\" text-anchor=\"middle\">det</textPath>\n",
              "    </text>\n",
              "    <path class=\"displacy-arrowhead\" d=\"M420,266.5 L412,254.5 428,254.5\" fill=\"currentColor\"/>\n",
              "</g>\n",
              "\n",
              "<g class=\"displacy-arrow\">\n",
              "    <path class=\"displacy-arc\" id=\"arrow-287c692f89e947228071d1e44ea1610c-0-2\" stroke-width=\"2px\" d=\"M245,264.5 C245,89.5 570.0,89.5 570.0,264.5\" fill=\"none\" stroke=\"currentColor\"/>\n",
              "    <text dy=\"1.25em\" style=\"font-size: 0.8em; letter-spacing: 1px\">\n",
              "        <textPath xlink:href=\"#arrow-287c692f89e947228071d1e44ea1610c-0-2\" class=\"displacy-label\" startOffset=\"50%\" side=\"left\" fill=\"currentColor\" text-anchor=\"middle\">dobj</textPath>\n",
              "    </text>\n",
              "    <path class=\"displacy-arrowhead\" d=\"M570.0,266.5 L578.0,254.5 562.0,254.5\" fill=\"currentColor\"/>\n",
              "</g>\n",
              "\n",
              "<g class=\"displacy-arrow\">\n",
              "    <path class=\"displacy-arc\" id=\"arrow-287c692f89e947228071d1e44ea1610c-0-3\" stroke-width=\"2px\" d=\"M595,264.5 C595,177.0 740.0,177.0 740.0,264.5\" fill=\"none\" stroke=\"currentColor\"/>\n",
              "    <text dy=\"1.25em\" style=\"font-size: 0.8em; letter-spacing: 1px\">\n",
              "        <textPath xlink:href=\"#arrow-287c692f89e947228071d1e44ea1610c-0-3\" class=\"displacy-label\" startOffset=\"50%\" side=\"left\" fill=\"currentColor\" text-anchor=\"middle\">prep</textPath>\n",
              "    </text>\n",
              "    <path class=\"displacy-arrowhead\" d=\"M740.0,266.5 L748.0,254.5 732.0,254.5\" fill=\"currentColor\"/>\n",
              "</g>\n",
              "\n",
              "<g class=\"displacy-arrow\">\n",
              "    <path class=\"displacy-arc\" id=\"arrow-287c692f89e947228071d1e44ea1610c-0-4\" stroke-width=\"2px\" d=\"M770,264.5 C770,177.0 915.0,177.0 915.0,264.5\" fill=\"none\" stroke=\"currentColor\"/>\n",
              "    <text dy=\"1.25em\" style=\"font-size: 0.8em; letter-spacing: 1px\">\n",
              "        <textPath xlink:href=\"#arrow-287c692f89e947228071d1e44ea1610c-0-4\" class=\"displacy-label\" startOffset=\"50%\" side=\"left\" fill=\"currentColor\" text-anchor=\"middle\">pobj</textPath>\n",
              "    </text>\n",
              "    <path class=\"displacy-arrowhead\" d=\"M915.0,266.5 L923.0,254.5 907.0,254.5\" fill=\"currentColor\"/>\n",
              "</g>\n",
              "\n",
              "<g class=\"displacy-arrow\">\n",
              "    <path class=\"displacy-arc\" id=\"arrow-287c692f89e947228071d1e44ea1610c-0-5\" stroke-width=\"2px\" d=\"M245,264.5 C245,2.0 1100.0,2.0 1100.0,264.5\" fill=\"none\" stroke=\"currentColor\"/>\n",
              "    <text dy=\"1.25em\" style=\"font-size: 0.8em; letter-spacing: 1px\">\n",
              "        <textPath xlink:href=\"#arrow-287c692f89e947228071d1e44ea1610c-0-5\" class=\"displacy-label\" startOffset=\"50%\" side=\"left\" fill=\"currentColor\" text-anchor=\"middle\">prep</textPath>\n",
              "    </text>\n",
              "    <path class=\"displacy-arrowhead\" d=\"M1100.0,266.5 L1108.0,254.5 1092.0,254.5\" fill=\"currentColor\"/>\n",
              "</g>\n",
              "\n",
              "<g class=\"displacy-arrow\">\n",
              "    <path class=\"displacy-arc\" id=\"arrow-287c692f89e947228071d1e44ea1610c-0-6\" stroke-width=\"2px\" d=\"M1120,264.5 C1120,177.0 1265.0,177.0 1265.0,264.5\" fill=\"none\" stroke=\"currentColor\"/>\n",
              "    <text dy=\"1.25em\" style=\"font-size: 0.8em; letter-spacing: 1px\">\n",
              "        <textPath xlink:href=\"#arrow-287c692f89e947228071d1e44ea1610c-0-6\" class=\"displacy-label\" startOffset=\"50%\" side=\"left\" fill=\"currentColor\" text-anchor=\"middle\">pobj</textPath>\n",
              "    </text>\n",
              "    <path class=\"displacy-arrowhead\" d=\"M1265.0,266.5 L1273.0,254.5 1257.0,254.5\" fill=\"currentColor\"/>\n",
              "</g>\n",
              "</svg></span>"
            ],
            "text/plain": [
              "<IPython.core.display.HTML object>"
            ]
          },
          "metadata": {},
          "output_type": "display_data"
        }
      ],
      "source": [
        "import spacy\n",
        "\n",
        "# Load English NLP model\n",
        "nlp = spacy.load(\"en_core_web_sm\")\n",
        "\n",
        "def dependency_parsing(sentence):\n",
        "    # Process the sentence using spaCy\n",
        "    doc = nlp(sentence)\n",
        "\n",
        "    # Print Dependency Parsing Results\n",
        "    print(f\"\\nProcessing Sentence: {sentence}\")\n",
        "    print(f\"{'Token':<15}{'Dependency':<20}{'Head':<15}{'Children'}\")\n",
        "    print(\"-\" * 60)\n",
        "\n",
        "    for token in doc:\n",
        "        children = [child.text for child in token.children]\n",
        "        print(f\"{token.text:<15}{token.dep_:<20}{token.head.text:<15}{children}\")\n",
        "\n",
        "    # Display Dependency Arcs Graphically\n",
        "    spacy.displacy.render(doc, style=\"dep\", jupyter=True)\n",
        "\n",
        "# Example sentences\n",
        "sentences = [\n",
        "    \"I wanted to try someplace new\",\n",
        "    \"I booked a flight from Vijayawada to Delhi\"\n",
        "]\n",
        "\n",
        "# Run the NLP-based Dependency Parser\n",
        "for sentence in sentences:\n",
        "    dependency_parsing(sentence)\n",
        "#22BCE8674"
      ]
    },
    {
      "cell_type": "code",
      "execution_count": null,
      "metadata": {
        "colab": {
          "base_uri": "https://localhost:8080/"
        },
        "id": "KE9hlktu_J--",
        "outputId": "feb665dc-25b8-4d0c-b6f1-26d472ce4991"
      },
      "outputs": [
        {
          "name": "stdout",
          "output_type": "stream",
          "text": [
            "\n",
            "Dependency Parsing for 'I prefer the morning flight through Denver'\n",
            "--------------------------------------------------\n",
            "I            --> Head:prefer       |Dep: nsubj\n",
            "prefer       --> Head:prefer       |Dep: ROOT\n",
            "the          --> Head:flight       |Dep: det\n",
            "morning      --> Head:flight       |Dep: compound\n",
            "flight       --> Head:prefer       |Dep: dobj\n",
            "through      --> Head:flight       |Dep: prep\n",
            "Denver       --> Head:through      |Dep: pobj\n",
            "\n",
            "Dependency Parsing for 'The dog barked loudly at the stranger'\n",
            "--------------------------------------------------\n",
            "The          --> Head:dog          |Dep: det\n",
            "dog          --> Head:dog          |Dep: ROOT\n",
            "barked       --> Head:dog          |Dep: acl\n",
            "loudly       --> Head:barked       |Dep: advmod\n",
            "at           --> Head:barked       |Dep: prep\n",
            "the          --> Head:stranger     |Dep: det\n",
            "stranger     --> Head:at           |Dep: pobj\n",
            "\n",
            "Dependency Parsing for 'The quick brown fox jumps over the lazy dog'\n",
            "--------------------------------------------------\n",
            "The          --> Head:fox          |Dep: det\n",
            "quick        --> Head:fox          |Dep: amod\n",
            "brown        --> Head:fox          |Dep: amod\n",
            "fox          --> Head:jumps        |Dep: nsubj\n",
            "jumps        --> Head:jumps        |Dep: ROOT\n",
            "over         --> Head:jumps        |Dep: prep\n",
            "the          --> Head:dog          |Dep: det\n",
            "lazy         --> Head:dog          |Dep: amod\n",
            "dog          --> Head:over         |Dep: pobj\n",
            "\n",
            "Dependency Parsing for 'I booked a flight from Vijayawada to delhi'\n",
            "--------------------------------------------------\n",
            "I            --> Head:booked       |Dep: nsubj\n",
            "booked       --> Head:booked       |Dep: ROOT\n",
            "a            --> Head:flight       |Dep: det\n",
            "flight       --> Head:booked       |Dep: dobj\n",
            "from         --> Head:flight       |Dep: prep\n",
            "Vijayawada   --> Head:from         |Dep: pobj\n",
            "to           --> Head:booked       |Dep: prep\n",
            "delhi        --> Head:to           |Dep: pobj\n",
            "\n",
            "Dependency Parsing for 'John saw a dog yesterday which was a Yorkshire Terrier'\n",
            "--------------------------------------------------\n",
            "John         --> Head:saw          |Dep: nsubj\n",
            "saw          --> Head:saw          |Dep: ROOT\n",
            "a            --> Head:dog          |Dep: det\n",
            "dog          --> Head:saw          |Dep: dobj\n",
            "yesterday    --> Head:saw          |Dep: npadvmod\n",
            "which        --> Head:was          |Dep: nsubj\n",
            "was          --> Head:dog          |Dep: relcl\n",
            "a            --> Head:Terrier      |Dep: det\n",
            "Yorkshire    --> Head:Terrier      |Dep: compound\n",
            "Terrier      --> Head:was          |Dep: attr\n"
          ]
        }
      ],
      "source": [
        "#2\n",
        "import spacy\n",
        "\n",
        "nlp=spacy.load(\"en_core_web_sm\")\n",
        "sentences=[\n",
        "    \"I prefer the morning flight through Denver\",\n",
        "    \"The dog barked loudly at the stranger\",\n",
        "    \"The quick brown fox jumps over the lazy dog\",\n",
        "    \"I booked a flight from Vijayawada to delhi\",\n",
        "    \"John saw a dog yesterday which was a Yorkshire Terrier\"\n",
        "]\n",
        "for sentence in sentences:\n",
        "    doc=nlp(sentence)\n",
        "    print(f\"\\nDependency Parsing for '{sentence}'\")\n",
        "    print(\"-\"*50)\n",
        "    for token in doc:\n",
        "        print(f\"{token.text:12} --> Head:{token.head.text:12} |Dep: {token.dep_}\")\n",
        "#22bce8674"
      ]
    },
    {
      "cell_type": "code",
      "execution_count": null,
      "metadata": {
        "colab": {
          "base_uri": "https://localhost:8080/",
          "height": 666
        },
        "id": "VbXfJtZz_0uL",
        "outputId": "abbb4e2f-2ae9-4a7d-beea-d7469c0517bd"
      },
      "outputs": [
        {
          "name": "stdout",
          "output_type": "stream",
          "text": [
            "Graph-based Dependency Parsing using CLE Algorithm:\n",
            "root --> John | Weight: 9\n",
            "John --> saw | Weight: 20\n",
            "John --> Mary | Weight: 30\n",
            "saw --> 0 | Weight: 0\n",
            "saw --> 11 | Weight: 11\n",
            "saw --> 3 | Weight: 3\n"
          ]
        },
        {
          "data": {
            "text/plain": [
              "[<matplotlib.patches.FancyArrowPatch at 0x7a7c86649750>,\n",
              " <matplotlib.patches.FancyArrowPatch at 0x7a7c8649dd90>,\n",
              " <matplotlib.patches.FancyArrowPatch at 0x7a7c865b5d50>,\n",
              " <matplotlib.patches.FancyArrowPatch at 0x7a7c8376f090>,\n",
              " <matplotlib.patches.FancyArrowPatch at 0x7a7c865b51d0>,\n",
              " <matplotlib.patches.FancyArrowPatch at 0x7a7c865b55d0>,\n",
              " <matplotlib.patches.FancyArrowPatch at 0x7a7c8669a650>,\n",
              " <matplotlib.patches.FancyArrowPatch at 0x7a7c865b6850>]"
            ]
          },
          "execution_count": 13,
          "metadata": {},
          "output_type": "execute_result"
        },
        {
          "data": {
            "image/png": "[encoded data removed]",
            "text/plain": [
              "<Figure size 640x480 with 1 Axes>"
            ]
          },
          "metadata": {},
          "output_type": "display_data"
        }
      ],
      "source": [
        "import networkx as nx\n",
        "\n",
        "\n",
        "\n",
        "G=nx.DiGraph()\n",
        "edges=[\n",
        "    (\"root\",\"John\",9),\n",
        "    (\"root\",\"saw\",10),\n",
        "    (\"John\",\"saw\",20),\n",
        "    (\"John\",\"Mary\",30),\n",
        "    (\"saw\",\"Mary\",30),\n",
        "    (\"saw\",\"0\",0),\n",
        "    (\"saw\",\"11\",11),\n",
        "    (\"saw\",\"3\",3),\n",
        "]\n",
        "\n",
        "G.add_weighted_edges_from(edges)\n",
        "mst=nx.maximum_spanning_arborescence(G)\n",
        "print(\"Graph-based Dependency Parsing using CLE Algorithm:\")\n",
        "for edge in mst.edges(data=True):\n",
        "    print(f\"{edge[0]} --> {edge[1]} | Weight: {edge[2]['weight']}\")\n",
        "pos=nx.spring_layout(G)\n",
        "nx.draw_networkx_nodes(G,pos)\n",
        "nx.draw_networkx_edges(G,pos)"
      ]
    },
    {
      "cell_type": "code",
      "execution_count": null,
      "metadata": {
        "colab": {
          "base_uri": "https://localhost:8080/"
        },
        "id": "Dw1Tk4NHD6H1",
        "outputId": "2d696aef-909e-4f25-9e55-8e9d047f34ad"
      },
      "outputs": [
        {
          "name": "stdout",
          "output_type": "stream",
          "text": [
            "+---------+-----------------------------------------------------------+-----------------------------------------------------+---------------+-----------------------+\n",
            "| Step No |                           Stack                           |                        Buffer                       |     Action    |       Added Arc       |\n",
            "+---------+-----------------------------------------------------------+-----------------------------------------------------+---------------+-----------------------+\n",
            "|    0    |                           [root]                          | [I, booked, a, flight, from, Vijayawada, to, Delhi] | Initial State |                       |\n",
            "|    1    |                         [root, I]                         |   [booked, a, flight, from, Vijayawada, to, Delhi]  |     SHIFT     |                       |\n",
            "|    2    |                     [root, I, booked]                     |       [a, flight, from, Vijayawada, to, Delhi]      |     SHIFT     |                       |\n",
            "|    3    |                    [root, I, booked, a]                   |        [flight, from, Vijayawada, to, Delhi]        |     SHIFT     |                       |\n",
            "|    4    |                [root, I, booked, a, flight]               |            [from, Vijayawada, to, Delhi]            |     SHIFT     |                       |\n",
            "|    5    |             [root, I, booked, a, flight, from]            |               [Vijayawada, to, Delhi]               |     SHIFT     |                       |\n",
            "|    6    |       [root, I, booked, a, flight, from, Vijayawada]      |                     [to, Delhi]                     |     SHIFT     |                       |\n",
            "|    7    |     [root, I, booked, a, flight, from, Vijayawada, to]    |                       [Delhi]                       |     SHIFT     |                       |\n",
            "|    8    | [root, I, booked, a, flight, from, Vijayawada, to, Delhi] |                          []                         |     SHIFT     |                       |\n",
            "|    9    |     [root, I, booked, a, flight, from, Vijayawada, to]    |                          []                         |    RIGHTARC   |      (to → Delhi)     |\n",
            "|    10   |       [root, I, booked, a, flight, from, Vijayawada]      |                          []                         |    RIGHTARC   |   (Vijayawada → to)   |\n",
            "|    11   |          [root, I, booked, a, flight, Vijayawada]         |                          []                         |    LEFTARC    |  (from ← Vijayawada)  |\n",
            "|    12   |                [root, I, booked, a, flight]               |                          []                         |    RIGHTARC   | (flight → Vijayawada) |\n",
            "|    13   |                    [root, I, booked, a]                   |                          []                         |    RIGHTARC   |      (a → flight)     |\n",
            "|    14   |                     [root, I, booked]                     |                          []                         |    RIGHTARC   |      (booked → a)     |\n",
            "+---------+-----------------------------------------------------------+-----------------------------------------------------+---------------+-----------------------+\n",
            "\n",
            "Final Dependencies:\n",
            "('to', 'ROOT', 'Delhi')\n",
            "('Vijayawada', 'OBJ', 'to')\n",
            "('Vijayawada', 'DET', 'from')\n",
            "('flight', 'NSUBJ', 'Vijayawada')\n",
            "('a', 'PREP', 'flight')\n",
            "('booked', 'POBJ', 'a')\n"
          ]
        }
      ],
      "source": [
        "from prettytable import PrettyTable\n",
        "\n",
        "class ArcDependencyParser:\n",
        "    def __init__(self, sentence): # Added self as the first argument\n",
        "        self.sentence = sentence.split()\n",
        "        self.stack = [\"root\"]  # Stack starts with root\n",
        "        self.buffer = self.sentence[:]  # Buffer holds words in order\n",
        "        self.arcs = []  # Store dependency relations\n",
        "        self.steps = []  # Store step-wise transitions\n",
        "        self.step_count = 0  # Step counter\n",
        "\n",
        "    def shift(self):\n",
        "        if self.buffer:\n",
        "            self.stack.append(self.buffer.pop(0))\n",
        "            self.steps.append((self.step_count, list(self.stack), list(self.buffer), \"SHIFT\", \"\"))\n",
        "            self.step_count += 1\n",
        "\n",
        "    def left_arc(self, relation):\n",
        "        if len(self.stack) > 1:\n",
        "            dep = self.stack.pop(-2)\n",
        "            head = self.stack[-1]\n",
        "            self.arcs.append((head, relation, dep))\n",
        "            self.steps.append((self.step_count, list(self.stack), list(self.buffer), \"LEFTARC\", f\"({dep} ← {head})\"))\n",
        "            self.step_count += 1\n",
        "\n",
        "    def right_arc(self, relation):\n",
        "        if len(self.stack) > 1:\n",
        "            dep = self.stack.pop()\n",
        "            head = self.stack[-1]\n",
        "            self.arcs.append((head, relation, dep))\n",
        "            self.steps.append((self.step_count, list(self.stack), list(self.buffer), \"RIGHTARC\", f\"({head} → {dep})\"))\n",
        "            self.step_count += 1\n",
        "\n",
        "    def parse(self):\n",
        "        self.steps.append((self.step_count, list(self.stack), list(self.buffer), \"Initial State\", \"\"))\n",
        "        self.step_count += 1\n",
        "\n",
        "        while self.buffer:\n",
        "            self.shift()\n",
        "\n",
        "        self.right_arc(\"ROOT\")\n",
        "        self.right_arc(\"OBJ\")\n",
        "        self.left_arc(\"DET\")\n",
        "        self.right_arc(\"NSUBJ\")\n",
        "        self.right_arc(\"PREP\")\n",
        "        self.right_arc(\"POBJ\")\n",
        "\n",
        "        self.display_steps()\n",
        "\n",
        "        print(\"\\nFinal Dependencies:\")\n",
        "        for arc in self.arcs:\n",
        "            print(arc)\n",
        "\n",
        "    def display_steps(self):\n",
        "        table = PrettyTable()\n",
        "        table.field_names = [\"Step No\", \"Stack\", \"Buffer\", \"Action\", \"Added Arc\"]\n",
        "\n",
        "        for step in self.steps:\n",
        "            table.add_row([step[0], \"[\" + \", \".join(step[1]) + \"]\", \"[\" + \", \".join(step[2]) + \"]\", step[3], step[4]])\n",
        "\n",
        "        print(table)\n",
        "\n",
        "# Example usage\n",
        "sentence = \"I booked a flight from Vijayawada to Delhi\"\n",
        "parser = ArcDependencyParser(sentence)\n",
        "parser.parse()"
      ]
    },
    {
      "cell_type": "code",
      "execution_count": null,
      "metadata": {
        "colab": {
          "background_save": true,
          "base_uri": "https://localhost:8080/",
          "height": 1000
        },
        "id": "Re0enCUYFBmC",
        "outputId": "cdcace6d-ad8c-4691-b5fe-50cbe3acb6a5"
      },
      "outputs": [
        {
          "data": {
            "image/png": "[encoded data removed]",
            "text/plain": [
              "<Figure size 800x600 with 1 Axes>"
            ]
          },
          "metadata": {},
          "output_type": "display_data"
        },
        {
          "data": {
            "image/png": "[encoded data removed]",
            "text/plain": [
              "<Figure size 800x600 with 1 Axes>"
            ]
          },
          "metadata": {},
          "output_type": "display_data"
        }
      ],
      "source": [
        "import networkx as nx\n",
        "import matplotlib.pyplot as plt\n",
        "\n",
        "def draw_mst(graph_edges, title):\n",
        "    \"\"\" Function to compute and draw MST for a given directed graph \"\"\"\n",
        "    G = nx.DiGraph()\n",
        "    G.add_weighted_edges_from(graph_edges)\n",
        "\n",
        "    # Compute Maximum Spanning Tree using CLE Algorithm\n",
        "    mst = nx.maximum_spanning_arborescence(G)\n",
        "\n",
        "    # Visualization setup\n",
        "    plt.figure(figsize=(8, 6))\n",
        "    pos = nx.spring_layout(mst) # Compute node positions for visualization\n",
        "\n",
        "    # Draw MST with labels\n",
        "    nx.draw(mst, pos, with_labels=True, node_color=\"lightblue\", edge_color=\"black\", node_size=2000, font_size=12, arrows=True)\n",
        "\n",
        "    # Add edge weight labels\n",
        "    edge_labels = {(u, v): d[\"weight\"] for u, v, d in mst.edges(data=True)}\n",
        "    nx.draw_networkx_edge_labels(mst, pos, edge_labels=edge_labels, font_color=\"red\")\n",
        "\n",
        "    # Display graph title\n",
        "    plt.title(title)\n",
        "    plt.show()\n",
        "\n",
        "# **Graph 1** (Left Diagram in Image)\n",
        "graph_1_edges = [\n",
        "    (\"root\", \"Book\", 12),\n",
        "    (\"root\", \"that\", 4),\n",
        "    (\"Book\", \"that\", 5),\n",
        "    (\"Book\", \"flight\", 6),\n",
        "    (\"that\", \"flight\", 7),\n",
        "    (\"that\", \"Book\", 5)\n",
        "]\n",
        "\n",
        "# **Graph 2** (Right Diagram in Image)\n",
        "graph_2_edges = [\n",
        "    (\"root\", \"John\", 9),\n",
        "    (\"root\", \"saw\", 10),\n",
        "    (\"John\", \"saw\", 20),\n",
        "    (\"John\", \"Mary\", 30),\n",
        "    (\"saw\", \"Mary\", 30),\n",
        "    (\"saw\", \"0\", 0),\n",
        "    (\"saw\", \"11\", 11),\n",
        "    (\"saw\", \"3\", 3)\n",
        "]\n",
        "\n",
        "# Draw MSTs for both graphs\n",
        "draw_mst(graph_1_edges, \"Graph-based Dependency Parsing (Graph 1)\")\n",
        "draw_mst(graph_2_edges, \"Graph-based Dependency Parsing (Graph 2)\")\n",
        "#22BCE*"
      ]
    }
  ],
  "metadata": {
    "colab": {
      "provenance": [],
      "authorship_tag": "ABX9TyMXRzqMIZw/xy9Cb5jjbiGb",
      "include_colab_link": true
    },
    "kernelspec": {
      "display_name": "Python 3",
      "name": "python3"
    },
    "language_info": {
      "name": "python"
    }
  },
  "nbformat": 4,
  "nbformat_minor": 0
}